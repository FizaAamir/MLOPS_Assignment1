{
 "cells": [
  {
   "cell_type": "code",
   "execution_count": 1,
   "id": "0c1167d9-4682-4a65-b2ba-b80de21b0cfc",
   "metadata": {},
   "outputs": [
    {
     "name": "stdout",
     "output_type": "stream",
     "text": [
      "Downloading data from https://storage.googleapis.com/tensorflow/tf-keras-datasets/imdb.npz\n",
      "17464789/17464789 [==============================] - 18s 1us/step\n",
      "Epoch 1/10\n",
      "49/49 [==============================] - 1s 9ms/step - loss: 0.6913 - accuracy: 0.5747 - val_loss: 0.6879 - val_accuracy: 0.6941\n",
      "Epoch 2/10\n",
      "49/49 [==============================] - 1s 11ms/step - loss: 0.6786 - accuracy: 0.7272 - val_loss: 0.6666 - val_accuracy: 0.7385\n",
      "Epoch 3/10\n",
      "49/49 [==============================] - 1s 11ms/step - loss: 0.6439 - accuracy: 0.7681 - val_loss: 0.6221 - val_accuracy: 0.7653\n",
      "Epoch 4/10\n",
      "49/49 [==============================] - 1s 10ms/step - loss: 0.5848 - accuracy: 0.8035 - val_loss: 0.5586 - val_accuracy: 0.8057\n",
      "Epoch 5/10\n",
      "49/49 [==============================] - 0s 8ms/step - loss: 0.5133 - accuracy: 0.8340 - val_loss: 0.4928 - val_accuracy: 0.8274\n",
      "Epoch 6/10\n",
      "49/49 [==============================] - 0s 9ms/step - loss: 0.4447 - accuracy: 0.8563 - val_loss: 0.4367 - val_accuracy: 0.8452\n",
      "Epoch 7/10\n",
      "49/49 [==============================] - 0s 10ms/step - loss: 0.3890 - accuracy: 0.8727 - val_loss: 0.3956 - val_accuracy: 0.8552\n",
      "Epoch 8/10\n",
      "49/49 [==============================] - 0s 9ms/step - loss: 0.3469 - accuracy: 0.8828 - val_loss: 0.3656 - val_accuracy: 0.8610\n",
      "Epoch 9/10\n",
      "49/49 [==============================] - 0s 9ms/step - loss: 0.3152 - accuracy: 0.8916 - val_loss: 0.3440 - val_accuracy: 0.8664\n",
      "Epoch 10/10\n",
      "49/49 [==============================] - 0s 9ms/step - loss: 0.2905 - accuracy: 0.8980 - val_loss: 0.3282 - val_accuracy: 0.8708\n",
      "782/782 [==============================] - 0s 498us/step - loss: 0.3282 - accuracy: 0.8708\n",
      "Test accuracy: 0.8708400130271912\n",
      "Downloading data from https://storage.googleapis.com/tensorflow/tf-keras-datasets/imdb_word_index.json\n",
      "1641221/1641221 [==============================] - 1s 1us/step\n",
      "1/1 [==============================] - 0s 45ms/step\n",
      "Positive sentiment\n"
     ]
    }
   ],
   "source": [
    "import tensorflow as tf\n",
    "from tensorflow import keras\n",
    "from tensorflow.keras.preprocessing.text import Tokenizer\n",
    "from tensorflow.keras.preprocessing.sequence import pad_sequences\n",
    "from tensorflow.keras.optimizers import Adam \n",
    "\n",
    "# Load the IMDb dataset\n",
    "imdb = keras.datasets.imdb\n",
    "(train_data, train_labels), (test_data, test_labels) = imdb.load_data(num_words=10000)  # 10,000 most frequent words\n",
    "\n",
    "# Preprocess the data\n",
    "max_length = 250  # Maximum sequence length\n",
    "train_data = pad_sequences(train_data, maxlen=max_length)\n",
    "test_data = pad_sequences(test_data, maxlen=max_length)\n",
    "\n",
    "# Build the model\n",
    "model = keras.Sequential()\n",
    "model.add(keras.layers.Embedding(10000, 16))  # Word embeddings\n",
    "model.add(keras.layers.GlobalAveragePooling1D())  # Pooling layer\n",
    "model.add(keras.layers.Dense(16, activation='relu'))\n",
    "model.add(keras.layers.Dense(1, activation='sigmoid'))\n",
    "\n",
    "# Compile the model\n",
    "optimizer = Adam(learning_rate=0.001)\n",
    "model.compile(optimizer=optimizer, loss='binary_crossentropy', metrics=['accuracy'])\n",
    "\n",
    "\n",
    "# Train the model\n",
    "model.fit(train_data, train_labels, epochs=10, batch_size=512, validation_data=(test_data, test_labels))\n",
    "\n",
    "# Evaluate the model\n",
    "test_loss, test_acc = model.evaluate(test_data, test_labels)\n",
    "print(f'Test accuracy: {test_acc}')\n",
    "\n",
    "# Make predictions\n",
    "sample_review = \"This movie was fantastic! I loved every moment of it.\"\n",
    "sample_review = sample_review.lower()\n",
    "sample_review = sample_review.split()\n",
    "word_to_id = imdb.get_word_index()\n",
    "sample_review = [word_to_id.get(word, 0) for word in sample_review]\n",
    "sample_review = pad_sequences([sample_review], maxlen=max_length)\n",
    "prediction = model.predict(sample_review)\n",
    "if prediction >= 0.5:\n",
    "    print(\"Positive sentiment\")\n",
    "else:\n",
    "    print(\"Negative sentiment\")\n"
   ]
  },
  {
   "cell_type": "code",
   "execution_count": 2,
   "id": "4d383736-680c-46ee-a998-7448bf56940c",
   "metadata": {},
   "outputs": [],
   "source": [
    "import pickle"
   ]
  },
  {
   "cell_type": "code",
   "execution_count": 3,
   "id": "dde684a9-d9cc-4e65-a86b-2395754fca0d",
   "metadata": {},
   "outputs": [],
   "source": [
    "# Save the trained model to a pickle file\n",
    "with open('sentiment_model.pkl', 'wb') as model_file:\n",
    "    pickle.dump(model, model_file)"
   ]
  },
  {
   "cell_type": "code",
   "execution_count": 10,
   "id": "276c5e61-6439-456b-ac28-709b2a87c988",
   "metadata": {},
   "outputs": [],
   "source": [
    "model.save('sentiment_model.h5')"
   ]
  },
  {
   "cell_type": "code",
   "execution_count": null,
   "id": "28c6d8dc-bedb-4e1c-9ccb-20485bfc47e5",
   "metadata": {},
   "outputs": [],
   "source": []
  }
 ],
 "metadata": {
  "kernelspec": {
   "display_name": "Python 3 (ipykernel)",
   "language": "python",
   "name": "python3"
  },
  "language_info": {
   "codemirror_mode": {
    "name": "ipython",
    "version": 3
   },
   "file_extension": ".py",
   "mimetype": "text/x-python",
   "name": "python",
   "nbconvert_exporter": "python",
   "pygments_lexer": "ipython3",
   "version": "3.11.5"
  }
 },
 "nbformat": 4,
 "nbformat_minor": 5
}
